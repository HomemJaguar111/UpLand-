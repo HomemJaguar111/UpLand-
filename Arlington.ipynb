{
  "nbformat": 4,
  "nbformat_minor": 0,
  "metadata": {
    "colab": {
      "provenance": [],
      "mount_file_id": "1jTPaEZoWDy_omDK86Gj8UvfLeuGnoAWl",
      "authorship_tag": "ABX9TyNm5OW1sGZY9aN9ognj5IVX",
      "include_colab_link": true
    },
    "kernelspec": {
      "name": "python3",
      "display_name": "Python 3"
    },
    "language_info": {
      "name": "python"
    }
  },
  "cells": [
    {
      "cell_type": "markdown",
      "metadata": {
        "id": "view-in-github",
        "colab_type": "text"
      },
      "source": [
        "<a href=\"https://colab.research.google.com/github/HomemJaguar111/UpLand-/blob/main/Arlington.ipynb\" target=\"_parent\"><img src=\"https://colab.research.google.com/assets/colab-badge.svg\" alt=\"Open In Colab\"/></a>"
      ]
    },
    {
      "cell_type": "code",
      "execution_count": 2,
      "metadata": {
        "id": "97O43apXWOJE"
      },
      "outputs": [],
      "source": [
        "import pandas as pd"
      ]
    },
    {
      "cell_type": "code",
      "source": [
        "ARL1PPdados = pd.read_excel('/content/drive/MyDrive/UpLand/Arlington/ARL1.xlsx')\n",
        "ARL2PPdados = pd.read_excel('/content/drive/MyDrive/UpLand/Arlington/ARL2.xlsx')"
      ],
      "metadata": {
        "id": "kFAu8FBsXdZb"
      },
      "execution_count": 3,
      "outputs": []
    },
    {
      "cell_type": "code",
      "source": [
        "ARLPP1 = pd.merge(ARL1PPdados, ARL2PPdados, how='outer')\n",
        "ARLPP = ARLPP1.drop_duplicates()"
      ],
      "metadata": {
        "id": "8KnoV51ofMmT"
      },
      "execution_count": 6,
      "outputs": []
    },
    {
      "cell_type": "code",
      "source": [
        "ppArlington = ARLPP[[\"Address\",\"Status\",\"Neighborhood\",\"UP2\",\"Yield Per Month\",\"Mint Price\",\"Last Price\",\"Sale Price\"]]"
      ],
      "metadata": {
        "id": "vv3J2NfUpYVh"
      },
      "execution_count": 82,
      "outputs": []
    },
    {
      "cell_type": "code",
      "source": [
        "ppSaleL = (ppArlington[\"Status\"] == \"For sale\")\n"
      ],
      "metadata": {
        "id": "9LeZQzOGy2XA"
      },
      "execution_count": 83,
      "outputs": []
    },
    {
      "cell_type": "code",
      "source": [
        "ppSale = ppArlington[ppSaleL]"
      ],
      "metadata": {
        "id": "6m2LzZU3_ckM"
      },
      "execution_count": 84,
      "outputs": []
    },
    {
      "cell_type": "code",
      "source": [
        "ppSaleUPX = (ppSale[\"Sale Price\"] > 3000)\n",
        "ppSaleDollar = (ppSale[\"Sale Price\"] < 3000)"
      ],
      "metadata": {
        "id": "BeFJKexbDBun"
      },
      "execution_count": 85,
      "outputs": []
    },
    {
      "cell_type": "code",
      "source": [
        "ppSaleUPX"
      ],
      "metadata": {
        "colab": {
          "base_uri": "https://localhost:8080/"
        },
        "id": "E9N_8EN4Dfa0",
        "outputId": "dc67bad5-79d7-472f-84fd-37e5193b04ed"
      },
      "execution_count": 86,
      "outputs": [
        {
          "output_type": "execute_result",
          "data": {
            "text/plain": [
              "1         True\n",
              "13        True\n",
              "16       False\n",
              "19        True\n",
              "23        True\n",
              "         ...  \n",
              "18853     True\n",
              "18864     True\n",
              "18865     True\n",
              "18867     True\n",
              "18868     True\n",
              "Name: Sale Price, Length: 2359, dtype: bool"
            ]
          },
          "metadata": {},
          "execution_count": 86
        }
      ]
    },
    {
      "cell_type": "code",
      "source": [
        "ppUPX = ppSale[ppSaleUPX]\n",
        "ppDollar = ppSale[ppSaleDollar]\n"
      ],
      "metadata": {
        "id": "S5v5Ff-1I7DY"
      },
      "execution_count": 87,
      "outputs": []
    },
    {
      "cell_type": "code",
      "source": [
        "ppDollar"
      ],
      "metadata": {
        "colab": {
          "base_uri": "https://localhost:8080/",
          "height": 746
        },
        "id": "6t5VGzBPLQEg",
        "outputId": "33353ec4-514b-45e0-c9d7-f3c7f9eaa6e5"
      },
      "execution_count": 88,
      "outputs": [
        {
          "output_type": "execute_result",
          "data": {
            "text/plain": [
              "                    Address    Status Neighborhood  UP2 Yield Per Month  \\\n",
              "16       959 CEDARLAND BLVD  For sale         EAST    9           16,44   \n",
              "47        1930 CHIEFTAIN LN  For sale         EAST   14           25,57   \n",
              "224     2316 CHAPEL HILL LN  For sale         EAST   24           43,84   \n",
              "594       2436 LIMESTONE DR  For sale         EAST   33           60,27   \n",
              "863          1906 REEVER ST  For sale         EAST   39           71,23   \n",
              "...                     ...       ...          ...  ...             ...   \n",
              "18244    1606 GREEN HILL DR  For sale         EAST   87          158,91   \n",
              "18447  1604 E TIMBERVIEW LN  For sale         EAST   86          157,08   \n",
              "18616          1619 KENT DR  For sale         EAST   85          155,25   \n",
              "18746    3110 RIVER BEND RD  For sale         EAST   85          155,25   \n",
              "18822     1012 WINNSBORO CT  For sale         EAST   84          153,43   \n",
              "\n",
              "       Mint Price  Last Price  Sale Price  \n",
              "16         1359.0     25000.0       50.00  \n",
              "47         2114.0      5000.0       33.00  \n",
              "224        3624.0      8100.0       15.00  \n",
              "594        4983.0      8999.0       14.99  \n",
              "863        5889.0      6500.0        8.45  \n",
              "...           ...         ...         ...  \n",
              "18244     13137.0     13137.0       26.00  \n",
              "18447     12986.0     12986.0       17.59  \n",
              "18616     12835.0      6500.0       10.00  \n",
              "18746     12835.0     12835.0       15.79  \n",
              "18822     12684.0     12684.0       18.00  \n",
              "\n",
              "[217 rows x 8 columns]"
            ],
            "text/html": [
              "\n",
              "  <div id=\"df-f5b25a1d-b006-459f-a567-202c2f5c477a\">\n",
              "    <div class=\"colab-df-container\">\n",
              "      <div>\n",
              "<style scoped>\n",
              "    .dataframe tbody tr th:only-of-type {\n",
              "        vertical-align: middle;\n",
              "    }\n",
              "\n",
              "    .dataframe tbody tr th {\n",
              "        vertical-align: top;\n",
              "    }\n",
              "\n",
              "    .dataframe thead th {\n",
              "        text-align: right;\n",
              "    }\n",
              "</style>\n",
              "<table border=\"1\" class=\"dataframe\">\n",
              "  <thead>\n",
              "    <tr style=\"text-align: right;\">\n",
              "      <th></th>\n",
              "      <th>Address</th>\n",
              "      <th>Status</th>\n",
              "      <th>Neighborhood</th>\n",
              "      <th>UP2</th>\n",
              "      <th>Yield Per Month</th>\n",
              "      <th>Mint Price</th>\n",
              "      <th>Last Price</th>\n",
              "      <th>Sale Price</th>\n",
              "    </tr>\n",
              "  </thead>\n",
              "  <tbody>\n",
              "    <tr>\n",
              "      <th>16</th>\n",
              "      <td>959 CEDARLAND BLVD</td>\n",
              "      <td>For sale</td>\n",
              "      <td>EAST</td>\n",
              "      <td>9</td>\n",
              "      <td>16,44</td>\n",
              "      <td>1359.0</td>\n",
              "      <td>25000.0</td>\n",
              "      <td>50.00</td>\n",
              "    </tr>\n",
              "    <tr>\n",
              "      <th>47</th>\n",
              "      <td>1930 CHIEFTAIN LN</td>\n",
              "      <td>For sale</td>\n",
              "      <td>EAST</td>\n",
              "      <td>14</td>\n",
              "      <td>25,57</td>\n",
              "      <td>2114.0</td>\n",
              "      <td>5000.0</td>\n",
              "      <td>33.00</td>\n",
              "    </tr>\n",
              "    <tr>\n",
              "      <th>224</th>\n",
              "      <td>2316 CHAPEL HILL LN</td>\n",
              "      <td>For sale</td>\n",
              "      <td>EAST</td>\n",
              "      <td>24</td>\n",
              "      <td>43,84</td>\n",
              "      <td>3624.0</td>\n",
              "      <td>8100.0</td>\n",
              "      <td>15.00</td>\n",
              "    </tr>\n",
              "    <tr>\n",
              "      <th>594</th>\n",
              "      <td>2436 LIMESTONE DR</td>\n",
              "      <td>For sale</td>\n",
              "      <td>EAST</td>\n",
              "      <td>33</td>\n",
              "      <td>60,27</td>\n",
              "      <td>4983.0</td>\n",
              "      <td>8999.0</td>\n",
              "      <td>14.99</td>\n",
              "    </tr>\n",
              "    <tr>\n",
              "      <th>863</th>\n",
              "      <td>1906 REEVER ST</td>\n",
              "      <td>For sale</td>\n",
              "      <td>EAST</td>\n",
              "      <td>39</td>\n",
              "      <td>71,23</td>\n",
              "      <td>5889.0</td>\n",
              "      <td>6500.0</td>\n",
              "      <td>8.45</td>\n",
              "    </tr>\n",
              "    <tr>\n",
              "      <th>...</th>\n",
              "      <td>...</td>\n",
              "      <td>...</td>\n",
              "      <td>...</td>\n",
              "      <td>...</td>\n",
              "      <td>...</td>\n",
              "      <td>...</td>\n",
              "      <td>...</td>\n",
              "      <td>...</td>\n",
              "    </tr>\n",
              "    <tr>\n",
              "      <th>18244</th>\n",
              "      <td>1606 GREEN HILL DR</td>\n",
              "      <td>For sale</td>\n",
              "      <td>EAST</td>\n",
              "      <td>87</td>\n",
              "      <td>158,91</td>\n",
              "      <td>13137.0</td>\n",
              "      <td>13137.0</td>\n",
              "      <td>26.00</td>\n",
              "    </tr>\n",
              "    <tr>\n",
              "      <th>18447</th>\n",
              "      <td>1604 E TIMBERVIEW LN</td>\n",
              "      <td>For sale</td>\n",
              "      <td>EAST</td>\n",
              "      <td>86</td>\n",
              "      <td>157,08</td>\n",
              "      <td>12986.0</td>\n",
              "      <td>12986.0</td>\n",
              "      <td>17.59</td>\n",
              "    </tr>\n",
              "    <tr>\n",
              "      <th>18616</th>\n",
              "      <td>1619 KENT DR</td>\n",
              "      <td>For sale</td>\n",
              "      <td>EAST</td>\n",
              "      <td>85</td>\n",
              "      <td>155,25</td>\n",
              "      <td>12835.0</td>\n",
              "      <td>6500.0</td>\n",
              "      <td>10.00</td>\n",
              "    </tr>\n",
              "    <tr>\n",
              "      <th>18746</th>\n",
              "      <td>3110 RIVER BEND RD</td>\n",
              "      <td>For sale</td>\n",
              "      <td>EAST</td>\n",
              "      <td>85</td>\n",
              "      <td>155,25</td>\n",
              "      <td>12835.0</td>\n",
              "      <td>12835.0</td>\n",
              "      <td>15.79</td>\n",
              "    </tr>\n",
              "    <tr>\n",
              "      <th>18822</th>\n",
              "      <td>1012 WINNSBORO CT</td>\n",
              "      <td>For sale</td>\n",
              "      <td>EAST</td>\n",
              "      <td>84</td>\n",
              "      <td>153,43</td>\n",
              "      <td>12684.0</td>\n",
              "      <td>12684.0</td>\n",
              "      <td>18.00</td>\n",
              "    </tr>\n",
              "  </tbody>\n",
              "</table>\n",
              "<p>217 rows × 8 columns</p>\n",
              "</div>\n",
              "      <button class=\"colab-df-convert\" onclick=\"convertToInteractive('df-f5b25a1d-b006-459f-a567-202c2f5c477a')\"\n",
              "              title=\"Convert this dataframe to an interactive table.\"\n",
              "              style=\"display:none;\">\n",
              "        \n",
              "  <svg xmlns=\"http://www.w3.org/2000/svg\" height=\"24px\"viewBox=\"0 0 24 24\"\n",
              "       width=\"24px\">\n",
              "    <path d=\"M0 0h24v24H0V0z\" fill=\"none\"/>\n",
              "    <path d=\"M18.56 5.44l.94 2.06.94-2.06 2.06-.94-2.06-.94-.94-2.06-.94 2.06-2.06.94zm-11 1L8.5 8.5l.94-2.06 2.06-.94-2.06-.94L8.5 2.5l-.94 2.06-2.06.94zm10 10l.94 2.06.94-2.06 2.06-.94-2.06-.94-.94-2.06-.94 2.06-2.06.94z\"/><path d=\"M17.41 7.96l-1.37-1.37c-.4-.4-.92-.59-1.43-.59-.52 0-1.04.2-1.43.59L10.3 9.45l-7.72 7.72c-.78.78-.78 2.05 0 2.83L4 21.41c.39.39.9.59 1.41.59.51 0 1.02-.2 1.41-.59l7.78-7.78 2.81-2.81c.8-.78.8-2.07 0-2.86zM5.41 20L4 18.59l7.72-7.72 1.47 1.35L5.41 20z\"/>\n",
              "  </svg>\n",
              "      </button>\n",
              "      \n",
              "  <style>\n",
              "    .colab-df-container {\n",
              "      display:flex;\n",
              "      flex-wrap:wrap;\n",
              "      gap: 12px;\n",
              "    }\n",
              "\n",
              "    .colab-df-convert {\n",
              "      background-color: #E8F0FE;\n",
              "      border: none;\n",
              "      border-radius: 50%;\n",
              "      cursor: pointer;\n",
              "      display: none;\n",
              "      fill: #1967D2;\n",
              "      height: 32px;\n",
              "      padding: 0 0 0 0;\n",
              "      width: 32px;\n",
              "    }\n",
              "\n",
              "    .colab-df-convert:hover {\n",
              "      background-color: #E2EBFA;\n",
              "      box-shadow: 0px 1px 2px rgba(60, 64, 67, 0.3), 0px 1px 3px 1px rgba(60, 64, 67, 0.15);\n",
              "      fill: #174EA6;\n",
              "    }\n",
              "\n",
              "    [theme=dark] .colab-df-convert {\n",
              "      background-color: #3B4455;\n",
              "      fill: #D2E3FC;\n",
              "    }\n",
              "\n",
              "    [theme=dark] .colab-df-convert:hover {\n",
              "      background-color: #434B5C;\n",
              "      box-shadow: 0px 1px 3px 1px rgba(0, 0, 0, 0.15);\n",
              "      filter: drop-shadow(0px 1px 2px rgba(0, 0, 0, 0.3));\n",
              "      fill: #FFFFFF;\n",
              "    }\n",
              "  </style>\n",
              "\n",
              "      <script>\n",
              "        const buttonEl =\n",
              "          document.querySelector('#df-f5b25a1d-b006-459f-a567-202c2f5c477a button.colab-df-convert');\n",
              "        buttonEl.style.display =\n",
              "          google.colab.kernel.accessAllowed ? 'block' : 'none';\n",
              "\n",
              "        async function convertToInteractive(key) {\n",
              "          const element = document.querySelector('#df-f5b25a1d-b006-459f-a567-202c2f5c477a');\n",
              "          const dataTable =\n",
              "            await google.colab.kernel.invokeFunction('convertToInteractive',\n",
              "                                                     [key], {});\n",
              "          if (!dataTable) return;\n",
              "\n",
              "          const docLinkHtml = 'Like what you see? Visit the ' +\n",
              "            '<a target=\"_blank\" href=https://colab.research.google.com/notebooks/data_table.ipynb>data table notebook</a>'\n",
              "            + ' to learn more about interactive tables.';\n",
              "          element.innerHTML = '';\n",
              "          dataTable['output_type'] = 'display_data';\n",
              "          await google.colab.output.renderOutput(dataTable, element);\n",
              "          const docLink = document.createElement('div');\n",
              "          docLink.innerHTML = docLinkHtml;\n",
              "          element.appendChild(docLink);\n",
              "        }\n",
              "      </script>\n",
              "    </div>\n",
              "  </div>\n",
              "  "
            ]
          },
          "metadata": {},
          "execution_count": 88
        }
      ]
    },
    {
      "cell_type": "code",
      "source": [
        "ppUPX"
      ],
      "metadata": {
        "colab": {
          "base_uri": "https://localhost:8080/",
          "height": 835
        },
        "id": "Q-dyU6V8EQRT",
        "outputId": "3e883547-9b94-4aa7-d56c-e1ec44fc3235"
      },
      "execution_count": 89,
      "outputs": [
        {
          "output_type": "execute_result",
          "data": {
            "text/plain": [
              "                  Address    Status Neighborhood  UP2 Yield Per Month  \\\n",
              "1      909 CEDARLAND BLVD  For sale         EAST    8           14,61   \n",
              "13     929 CEDARLAND BLVD  For sale         EAST    9           16,44   \n",
              "19     923 CEDARLAND BLVD  For sale         EAST    9           16,44   \n",
              "23     925 CEDARLAND BLVD  For sale         EAST   10           18,26   \n",
              "27     965 CEDARLAND BLVD  For sale         EAST   10           18,26   \n",
              "...                   ...       ...          ...  ...             ...   \n",
              "18853    2326 FOXCROFT LN  For sale         EAST   84          153,43   \n",
              "18864   3702 CLAYSFORD CT  For sale         EAST   84          153,43   \n",
              "18865  3705 GEORGETOWN ST  For sale         EAST   84          153,43   \n",
              "18867   3704 CLAYSFORD CT  For sale         EAST   84          153,43   \n",
              "18868       3706 CLARK CT  For sale         EAST   84          153,43   \n",
              "\n",
              "       Mint Price  Last Price  Sale Price  \n",
              "1          1208.0     19888.0     30000.0  \n",
              "13         1359.0     14448.0     22777.0  \n",
              "19         1359.0     10900.0     29950.0  \n",
              "23         1510.0     13000.0     30000.0  \n",
              "27         1510.0     17999.0     69420.0  \n",
              "...           ...         ...         ...  \n",
              "18853     12684.0     12684.0     48000.0  \n",
              "18864     12684.0     12684.0    200000.0  \n",
              "18865     12684.0     12684.0     29555.0  \n",
              "18867     12684.0     12684.0    300000.0  \n",
              "18868     12684.0     12684.0     29555.0  \n",
              "\n",
              "[2142 rows x 8 columns]"
            ],
            "text/html": [
              "\n",
              "  <div id=\"df-72a1b6d8-b11a-4b91-b2cd-aae2f3a350ce\">\n",
              "    <div class=\"colab-df-container\">\n",
              "      <div>\n",
              "<style scoped>\n",
              "    .dataframe tbody tr th:only-of-type {\n",
              "        vertical-align: middle;\n",
              "    }\n",
              "\n",
              "    .dataframe tbody tr th {\n",
              "        vertical-align: top;\n",
              "    }\n",
              "\n",
              "    .dataframe thead th {\n",
              "        text-align: right;\n",
              "    }\n",
              "</style>\n",
              "<table border=\"1\" class=\"dataframe\">\n",
              "  <thead>\n",
              "    <tr style=\"text-align: right;\">\n",
              "      <th></th>\n",
              "      <th>Address</th>\n",
              "      <th>Status</th>\n",
              "      <th>Neighborhood</th>\n",
              "      <th>UP2</th>\n",
              "      <th>Yield Per Month</th>\n",
              "      <th>Mint Price</th>\n",
              "      <th>Last Price</th>\n",
              "      <th>Sale Price</th>\n",
              "    </tr>\n",
              "  </thead>\n",
              "  <tbody>\n",
              "    <tr>\n",
              "      <th>1</th>\n",
              "      <td>909 CEDARLAND BLVD</td>\n",
              "      <td>For sale</td>\n",
              "      <td>EAST</td>\n",
              "      <td>8</td>\n",
              "      <td>14,61</td>\n",
              "      <td>1208.0</td>\n",
              "      <td>19888.0</td>\n",
              "      <td>30000.0</td>\n",
              "    </tr>\n",
              "    <tr>\n",
              "      <th>13</th>\n",
              "      <td>929 CEDARLAND BLVD</td>\n",
              "      <td>For sale</td>\n",
              "      <td>EAST</td>\n",
              "      <td>9</td>\n",
              "      <td>16,44</td>\n",
              "      <td>1359.0</td>\n",
              "      <td>14448.0</td>\n",
              "      <td>22777.0</td>\n",
              "    </tr>\n",
              "    <tr>\n",
              "      <th>19</th>\n",
              "      <td>923 CEDARLAND BLVD</td>\n",
              "      <td>For sale</td>\n",
              "      <td>EAST</td>\n",
              "      <td>9</td>\n",
              "      <td>16,44</td>\n",
              "      <td>1359.0</td>\n",
              "      <td>10900.0</td>\n",
              "      <td>29950.0</td>\n",
              "    </tr>\n",
              "    <tr>\n",
              "      <th>23</th>\n",
              "      <td>925 CEDARLAND BLVD</td>\n",
              "      <td>For sale</td>\n",
              "      <td>EAST</td>\n",
              "      <td>10</td>\n",
              "      <td>18,26</td>\n",
              "      <td>1510.0</td>\n",
              "      <td>13000.0</td>\n",
              "      <td>30000.0</td>\n",
              "    </tr>\n",
              "    <tr>\n",
              "      <th>27</th>\n",
              "      <td>965 CEDARLAND BLVD</td>\n",
              "      <td>For sale</td>\n",
              "      <td>EAST</td>\n",
              "      <td>10</td>\n",
              "      <td>18,26</td>\n",
              "      <td>1510.0</td>\n",
              "      <td>17999.0</td>\n",
              "      <td>69420.0</td>\n",
              "    </tr>\n",
              "    <tr>\n",
              "      <th>...</th>\n",
              "      <td>...</td>\n",
              "      <td>...</td>\n",
              "      <td>...</td>\n",
              "      <td>...</td>\n",
              "      <td>...</td>\n",
              "      <td>...</td>\n",
              "      <td>...</td>\n",
              "      <td>...</td>\n",
              "    </tr>\n",
              "    <tr>\n",
              "      <th>18853</th>\n",
              "      <td>2326 FOXCROFT LN</td>\n",
              "      <td>For sale</td>\n",
              "      <td>EAST</td>\n",
              "      <td>84</td>\n",
              "      <td>153,43</td>\n",
              "      <td>12684.0</td>\n",
              "      <td>12684.0</td>\n",
              "      <td>48000.0</td>\n",
              "    </tr>\n",
              "    <tr>\n",
              "      <th>18864</th>\n",
              "      <td>3702 CLAYSFORD CT</td>\n",
              "      <td>For sale</td>\n",
              "      <td>EAST</td>\n",
              "      <td>84</td>\n",
              "      <td>153,43</td>\n",
              "      <td>12684.0</td>\n",
              "      <td>12684.0</td>\n",
              "      <td>200000.0</td>\n",
              "    </tr>\n",
              "    <tr>\n",
              "      <th>18865</th>\n",
              "      <td>3705 GEORGETOWN ST</td>\n",
              "      <td>For sale</td>\n",
              "      <td>EAST</td>\n",
              "      <td>84</td>\n",
              "      <td>153,43</td>\n",
              "      <td>12684.0</td>\n",
              "      <td>12684.0</td>\n",
              "      <td>29555.0</td>\n",
              "    </tr>\n",
              "    <tr>\n",
              "      <th>18867</th>\n",
              "      <td>3704 CLAYSFORD CT</td>\n",
              "      <td>For sale</td>\n",
              "      <td>EAST</td>\n",
              "      <td>84</td>\n",
              "      <td>153,43</td>\n",
              "      <td>12684.0</td>\n",
              "      <td>12684.0</td>\n",
              "      <td>300000.0</td>\n",
              "    </tr>\n",
              "    <tr>\n",
              "      <th>18868</th>\n",
              "      <td>3706 CLARK CT</td>\n",
              "      <td>For sale</td>\n",
              "      <td>EAST</td>\n",
              "      <td>84</td>\n",
              "      <td>153,43</td>\n",
              "      <td>12684.0</td>\n",
              "      <td>12684.0</td>\n",
              "      <td>29555.0</td>\n",
              "    </tr>\n",
              "  </tbody>\n",
              "</table>\n",
              "<p>2142 rows × 8 columns</p>\n",
              "</div>\n",
              "      <button class=\"colab-df-convert\" onclick=\"convertToInteractive('df-72a1b6d8-b11a-4b91-b2cd-aae2f3a350ce')\"\n",
              "              title=\"Convert this dataframe to an interactive table.\"\n",
              "              style=\"display:none;\">\n",
              "        \n",
              "  <svg xmlns=\"http://www.w3.org/2000/svg\" height=\"24px\"viewBox=\"0 0 24 24\"\n",
              "       width=\"24px\">\n",
              "    <path d=\"M0 0h24v24H0V0z\" fill=\"none\"/>\n",
              "    <path d=\"M18.56 5.44l.94 2.06.94-2.06 2.06-.94-2.06-.94-.94-2.06-.94 2.06-2.06.94zm-11 1L8.5 8.5l.94-2.06 2.06-.94-2.06-.94L8.5 2.5l-.94 2.06-2.06.94zm10 10l.94 2.06.94-2.06 2.06-.94-2.06-.94-.94-2.06-.94 2.06-2.06.94z\"/><path d=\"M17.41 7.96l-1.37-1.37c-.4-.4-.92-.59-1.43-.59-.52 0-1.04.2-1.43.59L10.3 9.45l-7.72 7.72c-.78.78-.78 2.05 0 2.83L4 21.41c.39.39.9.59 1.41.59.51 0 1.02-.2 1.41-.59l7.78-7.78 2.81-2.81c.8-.78.8-2.07 0-2.86zM5.41 20L4 18.59l7.72-7.72 1.47 1.35L5.41 20z\"/>\n",
              "  </svg>\n",
              "      </button>\n",
              "      \n",
              "  <style>\n",
              "    .colab-df-container {\n",
              "      display:flex;\n",
              "      flex-wrap:wrap;\n",
              "      gap: 12px;\n",
              "    }\n",
              "\n",
              "    .colab-df-convert {\n",
              "      background-color: #E8F0FE;\n",
              "      border: none;\n",
              "      border-radius: 50%;\n",
              "      cursor: pointer;\n",
              "      display: none;\n",
              "      fill: #1967D2;\n",
              "      height: 32px;\n",
              "      padding: 0 0 0 0;\n",
              "      width: 32px;\n",
              "    }\n",
              "\n",
              "    .colab-df-convert:hover {\n",
              "      background-color: #E2EBFA;\n",
              "      box-shadow: 0px 1px 2px rgba(60, 64, 67, 0.3), 0px 1px 3px 1px rgba(60, 64, 67, 0.15);\n",
              "      fill: #174EA6;\n",
              "    }\n",
              "\n",
              "    [theme=dark] .colab-df-convert {\n",
              "      background-color: #3B4455;\n",
              "      fill: #D2E3FC;\n",
              "    }\n",
              "\n",
              "    [theme=dark] .colab-df-convert:hover {\n",
              "      background-color: #434B5C;\n",
              "      box-shadow: 0px 1px 3px 1px rgba(0, 0, 0, 0.15);\n",
              "      filter: drop-shadow(0px 1px 2px rgba(0, 0, 0, 0.3));\n",
              "      fill: #FFFFFF;\n",
              "    }\n",
              "  </style>\n",
              "\n",
              "      <script>\n",
              "        const buttonEl =\n",
              "          document.querySelector('#df-72a1b6d8-b11a-4b91-b2cd-aae2f3a350ce button.colab-df-convert');\n",
              "        buttonEl.style.display =\n",
              "          google.colab.kernel.accessAllowed ? 'block' : 'none';\n",
              "\n",
              "        async function convertToInteractive(key) {\n",
              "          const element = document.querySelector('#df-72a1b6d8-b11a-4b91-b2cd-aae2f3a350ce');\n",
              "          const dataTable =\n",
              "            await google.colab.kernel.invokeFunction('convertToInteractive',\n",
              "                                                     [key], {});\n",
              "          if (!dataTable) return;\n",
              "\n",
              "          const docLinkHtml = 'Like what you see? Visit the ' +\n",
              "            '<a target=\"_blank\" href=https://colab.research.google.com/notebooks/data_table.ipynb>data table notebook</a>'\n",
              "            + ' to learn more about interactive tables.';\n",
              "          element.innerHTML = '';\n",
              "          dataTable['output_type'] = 'display_data';\n",
              "          await google.colab.output.renderOutput(dataTable, element);\n",
              "          const docLink = document.createElement('div');\n",
              "          docLink.innerHTML = docLinkHtml;\n",
              "          element.appendChild(docLink);\n",
              "        }\n",
              "      </script>\n",
              "    </div>\n",
              "  </div>\n",
              "  "
            ]
          },
          "metadata": {},
          "execution_count": 89
        }
      ]
    },
    {
      "cell_type": "code",
      "source": [
        "ARLPP = ARLPP1.drop_duplicates()"
      ],
      "metadata": {
        "id": "0ZB6DI5gowpZ"
      },
      "execution_count": 46,
      "outputs": []
    },
    {
      "cell_type": "code",
      "source": [
        "mintCity = ARLPP['Mint Price'].sum()\n",
        "up2City = ARLPP['UP2'].sum()\n",
        "up2Sale = ARLPP['Sale Price'].sum()"
      ],
      "metadata": {
        "id": "7JLivTAuiOEu"
      },
      "execution_count": 91,
      "outputs": []
    },
    {
      "cell_type": "code",
      "source": [
        "up2Sale"
      ],
      "metadata": {
        "colab": {
          "base_uri": "https://localhost:8080/"
        },
        "id": "P0ZnLIjecePa",
        "outputId": "24296411-757a-4fea-bbbd-048c1952fca1"
      },
      "execution_count": 92,
      "outputs": [
        {
          "output_type": "execute_result",
          "data": {
            "text/plain": [
              "2954549360.4199996"
            ]
          },
          "metadata": {},
          "execution_count": 92
        }
      ]
    },
    {
      "cell_type": "code",
      "source": [
        "up2City"
      ],
      "metadata": {
        "colab": {
          "base_uri": "https://localhost:8080/"
        },
        "id": "PLIgKL2HjZAO",
        "outputId": "9add7481-c52f-4ed6-c95b-821ee4338a03"
      },
      "execution_count": 93,
      "outputs": [
        {
          "output_type": "execute_result",
          "data": {
            "text/plain": [
              "3021949"
            ]
          },
          "metadata": {},
          "execution_count": 93
        }
      ]
    },
    {
      "cell_type": "markdown",
      "source": [],
      "metadata": {
        "id": "58eBU_koc3KI"
      }
    },
    {
      "cell_type": "code",
      "source": [
        "totalSaleUPX = ppUPX['Sale Price'].sum()\n"
      ],
      "metadata": {
        "id": "Fy6iQotJrmXO"
      },
      "execution_count": 94,
      "outputs": []
    },
    {
      "cell_type": "code",
      "source": [
        "totalSaleDollar = ppDollar['Sale Price'].sum()"
      ],
      "metadata": {
        "id": "MrG23HX6sUiu"
      },
      "execution_count": 106,
      "outputs": []
    },
    {
      "cell_type": "code",
      "source": [
        "totalSaleUPX"
      ],
      "metadata": {
        "colab": {
          "base_uri": "https://localhost:8080/"
        },
        "id": "djTJZF-rsrL8",
        "outputId": "877748d1-df00-41ee-e8c3-d8cbba358963"
      },
      "execution_count": 96,
      "outputs": [
        {
          "output_type": "execute_result",
          "data": {
            "text/plain": [
              "2954530692.0"
            ]
          },
          "metadata": {},
          "execution_count": 96
        }
      ]
    },
    {
      "cell_type": "code",
      "source": [
        "up2CityUPXSale = ppUPX['UP2'].sum()\n",
        "up2CityDollarSale = ppDollar['UP2'].sum()"
      ],
      "metadata": {
        "id": "YkwpwUzJyUrW"
      },
      "execution_count": 103,
      "outputs": []
    },
    {
      "cell_type": "code",
      "source": [
        "upxUp2Mint = mintCity/up2City\n",
        "upxUp2Sale = totalSaleUPX/up2CityUPXSale\n",
        "dollarUp2Sale = totalSaleDollar/up2CityDollarSale\n",
        "\n"
      ],
      "metadata": {
        "id": "_pTz8F6DkeKW"
      },
      "execution_count": 109,
      "outputs": []
    },
    {
      "cell_type": "code",
      "source": [
        "totalSaleDollar"
      ],
      "metadata": {
        "colab": {
          "base_uri": "https://localhost:8080/"
        },
        "id": "k1-V8PvkxFT0",
        "outputId": "cf4cfc4b-6baa-49cd-fae3-177119638ec7"
      },
      "execution_count": 107,
      "outputs": [
        {
          "output_type": "execute_result",
          "data": {
            "text/plain": [
              "18668.42"
            ]
          },
          "metadata": {},
          "execution_count": 107
        }
      ]
    },
    {
      "cell_type": "code",
      "source": [
        "up2CityDollarSale"
      ],
      "metadata": {
        "colab": {
          "base_uri": "https://localhost:8080/"
        },
        "id": "N936L2cn3MPT",
        "outputId": "f6e31c65-a5d9-4285-cc6b-1e08d9a28e9e"
      },
      "execution_count": 108,
      "outputs": [
        {
          "output_type": "execute_result",
          "data": {
            "text/plain": [
              "41570"
            ]
          },
          "metadata": {},
          "execution_count": 108
        }
      ]
    },
    {
      "cell_type": "code",
      "source": [
        "dollarUp2Sale"
      ],
      "metadata": {
        "colab": {
          "base_uri": "https://localhost:8080/"
        },
        "id": "cyatF_eq33M6",
        "outputId": "4fb82844-dca4-458e-a799-f45f657abcb4"
      },
      "execution_count": 110,
      "outputs": [
        {
          "output_type": "execute_result",
          "data": {
            "text/plain": [
              "0.4490839547750781"
            ]
          },
          "metadata": {},
          "execution_count": 110
        }
      ]
    }
  ]
}